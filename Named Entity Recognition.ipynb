{
 "cells": [
  {
   "cell_type": "code",
   "execution_count": 7,
   "metadata": {},
   "outputs": [
    {
     "name": "stderr",
     "output_type": "stream",
     "text": [
      "[nltk_data] Downloading package stopwords to\n",
      "[nltk_data]     /home/kerch007/nltk_data...\n",
      "[nltk_data]   Package stopwords is already up-to-date!\n"
     ]
    }
   ],
   "source": [
    "import os\n",
    "import re\n",
    "import tarfile\n",
    "\n",
    "import nltk\n",
    "import pandas as pd\n",
    "from nltk.stem import SnowballStemmer\n",
    "from nltk.corpus import stopwords\n",
    "nltk.download('stopwords')\n",
    "\n",
    "from collections import Counter\n",
    "import en_core_web_sm\n",
    "nlp = en_core_web_sm.load()\n"
   ]
  },
  {
   "cell_type": "code",
   "execution_count": 3,
   "metadata": {},
   "outputs": [],
   "source": [
    "downloads = os.path.join(os.environ['HOME'] + \"/Downloads\")\n",
    "url = \"http://www.aueb.gr/users/ion/data/enron-spam/preprocessed/\"\n",
    "enron_dir = os.path.join(downloads, 'Enron emails')\n",
    "enron_files = ['enron1.tar.gz', 'enron2.tar.gz', 'enron3.tar.gz',\n",
    "               'enron4.tar.gz', 'enron5.tar.gz', 'enron6.tar.gz']"
   ]
  },
  {
   "cell_type": "code",
   "execution_count": 8,
   "metadata": {},
   "outputs": [
    {
     "name": "stderr",
     "output_type": "stream",
     "text": [
      "/usr/local/lib/python3.6/dist-packages/pandas/core/frame.py:6211: FutureWarning: Sorting because non-concatenation axis is not aligned. A future version\n",
      "of pandas will change to not sort by default.\n",
      "\n",
      "To accept the future behavior, pass 'sort=False'.\n",
      "\n",
      "To retain the current behavior and silence the warning, pass 'sort=True'.\n",
      "\n",
      "  sort=sort)\n"
     ]
    }
   ],
   "source": [
    "def download():\n",
    "    \"\"\" Download emails \"\"\"\n",
    "    \n",
    "    # Create the directories.\n",
    "    if not os.path.exists(enron_dir):\n",
    "        os.makedirs(enron_dir)\n",
    "    # Download the files that not exist.\n",
    "    for file in enron_files:\n",
    "        path = os.path.join(enron_dir, file)\n",
    "        if not os.path.exists(path):\n",
    "            urllib.request.urlretrieve(url + file, path)\n",
    "\n",
    "def extract_emails(fname):\n",
    "    rows = []\n",
    "    tfile = tarfile.open(fname, encoding=\"latin-1\", errors='ignore')\n",
    "    for member in tfile.getmembers():\n",
    "        if 'ham' in member.name:\n",
    "            f = tfile.extractfile(member)\n",
    "            if f is not None:\n",
    "                row = f.read()\n",
    "                rows.append({'message': row, 'class': 'ham'})\n",
    "        if 'spam' in member.name:\n",
    "            f = tfile.extractfile(member)\n",
    "            if f is not None:\n",
    "                row = f.read()\n",
    "                rows.append({'message': row, 'class': 'spam'})\n",
    "    tfile.close()\n",
    "    return pd.DataFrame(rows)\n",
    "data = pd.DataFrame({'message': [], 'class': []})\n",
    "for file in enron_files:\n",
    "    unzipped_file = extract_emails(os.path.join(enron_dir, file))\n",
    "    data = data.append(unzipped_file)\n",
    "            "
   ]
  },
  {
   "cell_type": "code",
   "execution_count": 9,
   "metadata": {},
   "outputs": [],
   "source": [
    "def cleanSentences(text, remove_stopwords=True, stem_words=True):\n",
    "    # Clean the text, with the option to remove stopwords and to stem words.\n",
    "    \n",
    "    # Convert words to lower case and split them\n",
    "    text = text.lower().replace(\"<br />\", \" \")\n",
    "    text = text.split()\n",
    "\n",
    "    # Optionally, remove stop words\n",
    "    if remove_stopwords:\n",
    "        stops = set(stopwords.words(\"english\"))\n",
    "        text = [w for w in text if not w in stops]\n",
    "    \n",
    "    text = \" \".join(text)\n",
    "\n",
    "    # Clean the text\n",
    "    text = re.sub(r\"[^A-Za-z0-9^,!.\\/'+-=]\", \" \", text)\n",
    "    text = re.sub(r\"what's\", \"what is \", text)\n",
    "    text = re.sub(r\"\\'s\", \" \", text)\n",
    "    text = re.sub(r\"\\'ve\", \" have \", text)\n",
    "    text = re.sub(r\"can't\", \"cannot \", text)\n",
    "    text = re.sub(r\"n't\", \" not \", text)\n",
    "    text = re.sub(r\"i'm\", \"i am \", text)\n",
    "    text = re.sub(r\"\\'re\", \" are \", text)\n",
    "    text = re.sub(r\"\\'d\", \" would \", text)\n",
    "    text = re.sub(r\"\\'ll\", \" will \", text)\n",
    "    text = re.sub(r\",\", \" \", text)\n",
    "    text = re.sub(r\"\\.\", \" \", text)\n",
    "    text = re.sub(r\"!\", \" ! \", text)\n",
    "    text = re.sub(r\"\\/\", \" \", text)\n",
    "    text = re.sub(r\"\\^\", \" ^ \", text)\n",
    "    text = re.sub(r\"\\+\", \" + \", text)\n",
    "    text = re.sub(r\"\\-\", \" - \", text)\n",
    "    text = re.sub(r\"\\=\", \" = \", text)\n",
    "    text = re.sub(r\"'\", \" \", text)\n",
    "    text = re.sub(r\"(\\d+)(k)\", r\"\\g<1>000\", text)\n",
    "    text = re.sub(r\":\", \" : \", text)\n",
    "    text = re.sub(r\" e g \", \" eg \", text)\n",
    "    text = re.sub(r\" b g \", \" bg \", text)\n",
    "    text = re.sub(r\" u s \", \" american \", text)\n",
    "    text = re.sub(r\"\\0s\", \"0\", text)\n",
    "    text = re.sub(r\" 9 11 \", \"911\", text)\n",
    "    text = re.sub(r\"e - mail\", \"email\", text)\n",
    "    text = re.sub(r\"j k\", \"jk\", text)\n",
    "    text = re.sub(r\"\\s{2,}\", \" \", text)\n",
    "    \n",
    "    # Optionally, shorten words to their stems\n",
    "    if stem_words:\n",
    "        text = text.split()\n",
    "        stemmer = SnowballStemmer('english')\n",
    "        stemmed_words = [stemmer.stem(word) for word in text]\n",
    "        text = \" \".join(stemmed_words)\n",
    "    \n",
    "    # Return a list of words\n",
    "    return(text)\n",
    "\n",
    "data['message'] = data['message'].apply(lambda x: x.decode('latin-1'))\n",
    "data['class'] = data['class'].map({'spam':1, 'ham':0})\n"
   ]
  },
  {
   "cell_type": "code",
   "execution_count": 10,
   "metadata": {},
   "outputs": [
    {
     "data": {
      "text/html": [
       "<div>\n",
       "<style scoped>\n",
       "    .dataframe tbody tr th:only-of-type {\n",
       "        vertical-align: middle;\n",
       "    }\n",
       "\n",
       "    .dataframe tbody tr th {\n",
       "        vertical-align: top;\n",
       "    }\n",
       "\n",
       "    .dataframe thead th {\n",
       "        text-align: right;\n",
       "    }\n",
       "</style>\n",
       "<table border=\"1\" class=\"dataframe\">\n",
       "  <thead>\n",
       "    <tr style=\"text-align: right;\">\n",
       "      <th></th>\n",
       "      <th>class</th>\n",
       "      <th>message</th>\n",
       "    </tr>\n",
       "  </thead>\n",
       "  <tbody>\n",
       "    <tr>\n",
       "      <th>3625</th>\n",
       "      <td>1</td>\n",
       "      <td>subject : chanc get new logo work compani imag...</td>\n",
       "    </tr>\n",
       "    <tr>\n",
       "      <th>4457</th>\n",
       "      <td>1</td>\n",
       "      <td>subject : claim laptop today view graphic see ...</td>\n",
       "    </tr>\n",
       "    <tr>\n",
       "      <th>3613</th>\n",
       "      <td>1</td>\n",
       "      <td>subject : expand tu imagen ! ! ! ! ! ! ! ! ! s...</td>\n",
       "    </tr>\n",
       "    <tr>\n",
       "      <th>544</th>\n",
       "      <td>0</td>\n",
       "      <td>subject : revis draft risk manag fundament con...</td>\n",
       "    </tr>\n",
       "    <tr>\n",
       "      <th>1405</th>\n",
       "      <td>0</td>\n",
       "      <td>subject : samson burger well see first deliver...</td>\n",
       "    </tr>\n",
       "    <tr>\n",
       "      <th>2749</th>\n",
       "      <td>1</td>\n",
       "      <td>subject : visual ident busi corpor imag say lo...</td>\n",
       "    </tr>\n",
       "    <tr>\n",
       "      <th>4556</th>\n",
       "      <td>1</td>\n",
       "      <td>subject : pay les acrobat 6 profession pc week...</td>\n",
       "    </tr>\n",
       "    <tr>\n",
       "      <th>1946</th>\n",
       "      <td>1</td>\n",
       "      <td>subject : refin today low 2 9 thbjukdrfpgd spe...</td>\n",
       "    </tr>\n",
       "    <tr>\n",
       "      <th>5349</th>\n",
       "      <td>1</td>\n",
       "      <td>subject : longstand tycoon code link websit ta...</td>\n",
       "    </tr>\n",
       "    <tr>\n",
       "      <th>4796</th>\n",
       "      <td>1</td>\n",
       "      <td>subject : failur notic hi qmail - send program...</td>\n",
       "    </tr>\n",
       "  </tbody>\n",
       "</table>\n",
       "</div>"
      ],
      "text/plain": [
       "      class                                            message\n",
       "3625      1  subject : chanc get new logo work compani imag...\n",
       "4457      1  subject : claim laptop today view graphic see ...\n",
       "3613      1  subject : expand tu imagen ! ! ! ! ! ! ! ! ! s...\n",
       "544       0  subject : revis draft risk manag fundament con...\n",
       "1405      0  subject : samson burger well see first deliver...\n",
       "2749      1  subject : visual ident busi corpor imag say lo...\n",
       "4556      1  subject : pay les acrobat 6 profession pc week...\n",
       "1946      1  subject : refin today low 2 9 thbjukdrfpgd spe...\n",
       "5349      1  subject : longstand tycoon code link websit ta...\n",
       "4796      1  subject : failur notic hi qmail - send program..."
      ]
     },
     "execution_count": 10,
     "metadata": {},
     "output_type": "execute_result"
    }
   ],
   "source": [
    "data_10 = data.sample(n=10)\n",
    "data_10['message'] = data_10['message'].apply(cleanSentences)\n",
    "data_10"
   ]
  },
  {
   "cell_type": "code",
   "execution_count": 11,
   "metadata": {},
   "outputs": [
    {
     "name": "stdout",
     "output_type": "stream",
     "text": [
      "Named entities of email: [('first', 'ORDINAL')]\n",
      "Named entities of email: [('today', 'DATE'), ('earn least 20', 'CARDINAL'), ('20', 'CARDINAL'), ('333', 'CARDINAL'), ('149', 'CARDINAL'), ('3', 'CARDINAL'), ('10451', 'DATE'), ('20', 'CARDINAL'), ('20', 'CARDINAL'), ('333', 'CARDINAL'), ('149', 'CARDINAL'), ('3', 'CARDINAL'), ('10451', 'DATE')]\n",
      "Named entities of email: [('160', 'CARDINAL'), ('2', 'CARDINAL'), ('4 de la ley', 'QUANTITY'), ('19', 'CARDINAL'), ('628 28', 'CARDINAL'), ('19', 'CARDINAL'), ('14', 'CARDINAL'), ('2004', 'DATE'), ('al', 'ORG'), ('de', 'PERSON')]\n",
      "Named entities of email: [('one', 'CARDINAL'), ('next 2 - 3 day', 'DATE')]\n",
      "Named entities of email: [('first', 'ORDINAL'), ('08', 'CARDINAL'), ('16 2000', 'DATE'), ('03', 'CARDINAL'), ('26', 'CARDINAL'), ('08', 'CARDINAL'), ('16 2000', 'DATE'), ('02', 'CARDINAL'), ('00 pm', 'QUANTITY'), ('5 million', 'CARDINAL'), ('10', 'CARDINAL'), ('sept 1', 'DATE')]\n",
      "Named entities of email: [('second', 'ORDINAL'), ('three', 'CARDINAL')]\n",
      "Named entities of email: [('6', 'CARDINAL'), ('50', 'CARDINAL'), ('150', 'CARDINAL')]\n",
      "Named entities of email: [('today', 'DATE'), ('2 9', 'CARDINAL'), ('month', 'DATE'), ('2 9', 'CARDINAL')]\n",
      "Named entities of email: [('last week', 'DATE')]\n",
      "Named entities of email: [('03', 'CARDINAL'), ('5', 'CARDINAL'), ('50355', 'CARDINAL'), ('19', 'CARDINAL'), ('10', 'CARDINAL'), ('58', 'CARDINAL'), ('51 - 0000', 'CARDINAL'), ('50352', 'DATE'), ('19', 'CARDINAL'), ('10', 'CARDINAL'), ('58', 'CARDINAL'), ('51 - 0000', 'CARDINAL'), ('127', 'CARDINAL'), ('1', 'CARDINAL'), ('03', 'CARDINAL'), ('19', 'CARDINAL'), ('10', 'CARDINAL'), ('58', 'CARDINAL'), ('51 - 0000', 'CARDINAL'), ('03', 'CARDINAL'), ('127', 'CARDINAL'), ('03', 'CARDINAL'), ('127', 'CARDINAL'), ('10024', 'DATE'), ('46679', 'CARDINAL'), ('19', 'CARDINAL'), ('2005', 'DATE'), ('03', 'CARDINAL'), ('58', 'CARDINAL'), ('51 - 0700', 'CARDINAL'), ('50346', 'CARDINAL'), ('19', 'CARDINAL'), ('10', 'CARDINAL'), ('58', 'CARDINAL'), ('50 - 0000', 'CARDINAL'), ('yahoobb 220056020109', 'DATE'), ('220', 'CARDINAL'), ('56 20', 'PRODUCT'), ('109', 'CARDINAL'), ('03', 'CARDINAL'), ('19', 'CARDINAL'), ('10', 'CARDINAL'), ('58', 'CARDINAL'), ('50 - 0000', 'CARDINAL'), ('205', 'CARDINAL'), ('214', 'CARDINAL'), ('42 66', 'DATE'), ('87', 'CARDINAL'), ('09360462', 'DATE'), ('19', 'CARDINAL'), ('2005', 'DATE'), ('10', 'CARDINAL'), ('57', 'CARDINAL'), ('46 +', 'MONEY'), ('19', 'CARDINAL'), ('2005', 'DATE'), ('10', 'CARDINAL'), ('57', 'CARDINAL'), ('46 +', 'MONEY'), ('1', 'CARDINAL'), ('3', 'CARDINAL'), ('1', 'CARDINAL'), ('3', 'CARDINAL'), ('1', 'CARDINAL'), ('8859 - 1', 'CARDINAL'), ('8', 'CARDINAL'), ('3', 'CARDINAL'), ('1 62', 'CARDINAL'), ('1 99', 'CARDINAL')]\n"
     ]
    },
    {
     "data": {
      "image/png": "[encoded data removed]",
      "text/plain": [
       "<Figure size 432x288 with 1 Axes>"
      ]
     },
     "metadata": {},
     "output_type": "display_data"
    },
    {
     "data": {
      "image/png": "[encoded data removed]",
      "text/plain": [
       "<Figure size 432x288 with 1 Axes>"
      ]
     },
     "metadata": {},
     "output_type": "display_data"
    },
    {
     "data": {
      "image/png": "[encoded data removed]",
      "text/plain": [
       "<Figure size 432x288 with 1 Axes>"
      ]
     },
     "metadata": {},
     "output_type": "display_data"
    },
    {
     "data": {
      "image/png": "[encoded data removed]",
      "text/plain": [
       "<Figure size 432x288 with 1 Axes>"
      ]
     },
     "metadata": {},
     "output_type": "display_data"
    },
    {
     "data": {
      "image/png": "[encoded data removed]",
      "text/plain": [
       "<Figure size 432x288 with 1 Axes>"
      ]
     },
     "metadata": {},
     "output_type": "display_data"
    },
    {
     "data": {
      "image/png": "[encoded data removed]",
      "text/plain": [
       "<Figure size 432x288 with 1 Axes>"
      ]
     },
     "metadata": {},
     "output_type": "display_data"
    },
    {
     "data": {
      "image/png": "[encoded data removed]",
      "text/plain": [
       "<Figure size 432x288 with 1 Axes>"
      ]
     },
     "metadata": {},
     "output_type": "display_data"
    },
    {
     "data": {
      "image/png": "[encoded data removed]",
      "text/plain": [
       "<Figure size 432x288 with 1 Axes>"
      ]
     },
     "metadata": {},
     "output_type": "display_data"
    },
    {
     "data": {
      "image/png": "[encoded data removed]",
      "text/plain": [
       "<Figure size 432x288 with 1 Axes>"
      ]
     },
     "metadata": {},
     "output_type": "display_data"
    },
    {
     "data": {
      "image/png": "[encoded data removed]",
      "text/plain": [
       "<Figure size 432x288 with 1 Axes>"
      ]
     },
     "metadata": {},
     "output_type": "display_data"
    }
   ],
   "source": [
    "def get_name_entities(txt):\n",
    "    doc = nlp(txt)\n",
    "    labels = [x.label_ for x in doc.ents]\n",
    "    count = Counter(labels)\n",
    "    if len(count) == 0:\n",
    "        print(\"Named entities not found\")\n",
    "    else:\n",
    "        df = pd.DataFrame.from_dict(count, orient='index').reset_index()\n",
    "        df.columns = ['NER', 'count']\n",
    "        df.plot.bar(x='NER', y='count',fontsize=11, rot=0)\n",
    "        print ('Named entities of email:',[(X.text, X.label_) for X in doc.ents])\n",
    "\n",
    "for i in range(len(data_10)):\n",
    "    txt = data_10.iloc[i].values[1]\n",
    "    get_name_entities(txt)    "
   ]
  },
  {
   "cell_type": "code",
   "execution_count": null,
   "metadata": {},
   "outputs": [],
   "source": []
  }
 ],
 "metadata": {
  "kernelspec": {
   "display_name": "Python 3",
   "language": "python",
   "name": "python3"
  },
  "language_info": {
   "codemirror_mode": {
    "name": "ipython",
    "version": 3
   },
   "file_extension": ".py",
   "mimetype": "text/x-python",
   "name": "python",
   "nbconvert_exporter": "python",
   "pygments_lexer": "ipython3",
   "version": "3.6.7"
  }
 },
 "nbformat": 4,
 "nbformat_minor": 2
}
