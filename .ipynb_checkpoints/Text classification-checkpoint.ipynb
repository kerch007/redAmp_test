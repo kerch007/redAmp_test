{
 "cells": [
  {
   "cell_type": "code",
   "execution_count": 15,
   "metadata": {},
   "outputs": [],
   "source": [
    "import os\n",
    "import re\n",
    "import numpy as np\n",
    "import pandas as pd\n",
    "import tarfile\n",
    "from sklearn.feature_extraction.text import CountVectorizer\n",
    "from sklearn.feature_extraction.text import TfidfTransformer\n",
    "from sklearn.model_selection import train_test_split\n",
    "from sklearn.naive_bayes import MultinomialNB\n",
    "from sklearn.svm import SVC, NuSVC, LinearSVC\n",
    "from sklearn.linear_model import LogisticRegression\n",
    "from sklearn.ensemble import RandomForestClassifier\n",
    "from sklearn.tree import DecisionTreeClassifier\n",
    "from sklearn.metrics import classification_report,confusion_matrix\n",
    "from sklearn.metrics import accuracy_score\n",
    "import string\n",
    "from nltk.stem import SnowballStemmer\n",
    "from nltk.corpus import stopwords"
   ]
  },
  {
   "cell_type": "code",
   "execution_count": 2,
   "metadata": {},
   "outputs": [],
   "source": [
    "downloads = os.path.join(os.environ['HOME'] + \"/Downloads\")\n",
    "enron_dir = os.path.join(downloads, 'Enron emails')\n",
    "enron_files = ['enron1.tar.gz', 'enron2.tar.gz', 'enron3.tar.gz',\n",
    "               'enron4.tar.gz', 'enron5.tar.gz', 'enron6.tar.gz']\n",
    "\n",
    "def extract_emails(fname):\n",
    "    rows = []\n",
    "    tfile = tarfile.open(fname, encoding=\"latin-1\", errors='ignore')\n",
    "    for member in tfile.getmembers():\n",
    "        if 'ham' in member.name:\n",
    "            f = tfile.extractfile(member)\n",
    "            if f is not None:\n",
    "                row = f.read()\n",
    "                rows.append({'message': row, 'class': 'ham'})\n",
    "        if 'spam' in member.name:\n",
    "            f = tfile.extractfile(member)\n",
    "            if f is not None:\n",
    "                row = f.read()\n",
    "                rows.append({'message': row, 'class': 'spam'})\n",
    "    tfile.close()\n",
    "    return pd.DataFrame(rows)\n",
    "data = pd.DataFrame({'message': [], 'class': []})\n",
    "for file in enron_files:\n",
    "    unzipped_file = extract_emails(os.path.join(enron_dir, file))\n",
    "    data = data.append(unzipped_file)"
   ]
  },
  {
   "cell_type": "code",
   "execution_count": 3,
   "metadata": {},
   "outputs": [],
   "source": [
    "data['message'] = data['message'].apply(lambda x: x.decode('latin-1'))\n",
    "data['class'] = data['class'].map({'spam':1, 'ham':0})"
   ]
  },
  {
   "cell_type": "code",
   "execution_count": 4,
   "metadata": {},
   "outputs": [
    {
     "data": {
      "text/html": [
       "<div>\n",
       "<style scoped>\n",
       "    .dataframe tbody tr th:only-of-type {\n",
       "        vertical-align: middle;\n",
       "    }\n",
       "\n",
       "    .dataframe tbody tr th {\n",
       "        vertical-align: top;\n",
       "    }\n",
       "\n",
       "    .dataframe thead th {\n",
       "        text-align: right;\n",
       "    }\n",
       "</style>\n",
       "<table border=\"1\" class=\"dataframe\">\n",
       "  <thead>\n",
       "    <tr style=\"text-align: right;\">\n",
       "      <th></th>\n",
       "      <th>class</th>\n",
       "      <th>message</th>\n",
       "    </tr>\n",
       "  </thead>\n",
       "  <tbody>\n",
       "    <tr>\n",
       "      <th>0</th>\n",
       "      <td>0</td>\n",
       "      <td>Subject: christmas tree farm pictures\\r\\n</td>\n",
       "    </tr>\n",
       "    <tr>\n",
       "      <th>1</th>\n",
       "      <td>0</td>\n",
       "      <td>Subject: vastar resources , inc .\\r\\ngary , pr...</td>\n",
       "    </tr>\n",
       "    <tr>\n",
       "      <th>2</th>\n",
       "      <td>0</td>\n",
       "      <td>Subject: calpine daily gas nomination\\r\\n- cal...</td>\n",
       "    </tr>\n",
       "    <tr>\n",
       "      <th>3</th>\n",
       "      <td>0</td>\n",
       "      <td>Subject: re : issue\\r\\nfyi - see note below - ...</td>\n",
       "    </tr>\n",
       "    <tr>\n",
       "      <th>4</th>\n",
       "      <td>0</td>\n",
       "      <td>Subject: meter 7268 nov allocation\\r\\nfyi .\\r\\...</td>\n",
       "    </tr>\n",
       "  </tbody>\n",
       "</table>\n",
       "</div>"
      ],
      "text/plain": [
       "   class                                            message\n",
       "0      0          Subject: christmas tree farm pictures\\r\\n\n",
       "1      0  Subject: vastar resources , inc .\\r\\ngary , pr...\n",
       "2      0  Subject: calpine daily gas nomination\\r\\n- cal...\n",
       "3      0  Subject: re : issue\\r\\nfyi - see note below - ...\n",
       "4      0  Subject: meter 7268 nov allocation\\r\\nfyi .\\r\\..."
      ]
     },
     "execution_count": 4,
     "metadata": {},
     "output_type": "execute_result"
    }
   ],
   "source": [
    "data.head()"
   ]
  },
  {
   "cell_type": "code",
   "execution_count": 5,
   "metadata": {},
   "outputs": [],
   "source": [
    "def cleanSentences(text, remove_stopwords=True, stem_words=True):\n",
    "    # Clean the text, with the option to remove stopwords and to stem words.\n",
    "    \n",
    "    # Convert words to lower case and split them\n",
    "    text = text.lower().replace(\"<br />\", \" \")\n",
    "    text = text.split()\n",
    "\n",
    "    # Optionally, remove stop words\n",
    "    if remove_stopwords:\n",
    "        stops = set(stopwords.words(\"english\"))\n",
    "        text = [w for w in text if not w in stops]\n",
    "    \n",
    "    text = \" \".join(text)\n",
    "\n",
    "    # Clean the text\n",
    "    text = re.sub(r\"[^A-Za-z0-9^,!.\\/'+-=]\", \" \", text)\n",
    "    text = re.sub(r\"what's\", \"what is \", text)\n",
    "    text = re.sub(r\"\\'s\", \" \", text)\n",
    "    text = re.sub(r\"\\'ve\", \" have \", text)\n",
    "    text = re.sub(r\"can't\", \"cannot \", text)\n",
    "    text = re.sub(r\"n't\", \" not \", text)\n",
    "    text = re.sub(r\"i'm\", \"i am \", text)\n",
    "    text = re.sub(r\"\\'re\", \" are \", text)\n",
    "    text = re.sub(r\"\\'d\", \" would \", text)\n",
    "    text = re.sub(r\"\\'ll\", \" will \", text)\n",
    "    text = re.sub(r\",\", \" \", text)\n",
    "    text = re.sub(r\"\\.\", \" \", text)\n",
    "    text = re.sub(r\"!\", \" ! \", text)\n",
    "    text = re.sub(r\"\\/\", \" \", text)\n",
    "    text = re.sub(r\"\\^\", \" ^ \", text)\n",
    "    text = re.sub(r\"\\+\", \" + \", text)\n",
    "    text = re.sub(r\"\\-\", \" - \", text)\n",
    "    text = re.sub(r\"\\=\", \" = \", text)\n",
    "    text = re.sub(r\"'\", \" \", text)\n",
    "    text = re.sub(r\"(\\d+)(k)\", r\"\\g<1>000\", text)\n",
    "    text = re.sub(r\":\", \" : \", text)\n",
    "    text = re.sub(r\" e g \", \" eg \", text)\n",
    "    text = re.sub(r\" b g \", \" bg \", text)\n",
    "    text = re.sub(r\" u s \", \" american \", text)\n",
    "    text = re.sub(r\"\\0s\", \"0\", text)\n",
    "    text = re.sub(r\" 9 11 \", \"911\", text)\n",
    "    text = re.sub(r\"e - mail\", \"email\", text)\n",
    "    text = re.sub(r\"j k\", \"jk\", text)\n",
    "    text = re.sub(r\"\\s{2,}\", \" \", text)\n",
    "    \n",
    "    # Optionally, shorten words to their stems\n",
    "    if stem_words:\n",
    "        text = text.split()\n",
    "        stemmer = SnowballStemmer('english')\n",
    "        stemmed_words = [stemmer.stem(word) for word in text]\n",
    "        text = \" \".join(stemmed_words)\n",
    "    \n",
    "    # Return a list of words\n",
    "    return(text)\n",
    "\n",
    "data['message'] = data['message'].apply(cleanSentences)"
   ]
  },
  {
   "cell_type": "code",
   "execution_count": 6,
   "metadata": {},
   "outputs": [
    {
     "name": "stdout",
     "output_type": "stream",
     "text": [
      "132267\n"
     ]
    }
   ],
   "source": [
    "def text_process(mess):\n",
    "    nopunc =[char for char in mess if char not in string.punctuation]\n",
    "    nopunc=''.join(nopunc)\n",
    "    return [word for word in nopunc.split() if word.lower() not in stopwords.words('english')]\n",
    "\n",
    "bow_transformer = CountVectorizer(analyzer=text_process).fit(data['message'])\n",
    "print(len(bow_transformer.vocabulary_))"
   ]
  },
  {
   "cell_type": "code",
   "execution_count": 7,
   "metadata": {},
   "outputs": [],
   "source": [
    "X_train, X_test, y_train, y_test = train_test_split(data['message'], data['class'], test_size=0.2, random_state=42)"
   ]
  },
  {
   "cell_type": "code",
   "execution_count": 17,
   "metadata": {},
   "outputs": [
    {
     "name": "stdout",
     "output_type": "stream",
     "text": [
      "              precision    recall  f1-score   support\n",
      "\n",
      "           0       0.98      0.99      0.98      3276\n",
      "           1       0.99      0.98      0.98      3468\n",
      "\n",
      "   micro avg       0.98      0.98      0.98      6744\n",
      "   macro avg       0.98      0.98      0.98      6744\n",
      "weighted avg       0.98      0.98      0.98      6744\n",
      "\n",
      "[[3230   46]\n",
      " [  73 3395]]\n",
      "('Accuracy', 0.9823546856465006)\n"
     ]
    }
   ],
   "source": [
    "messages_bow = bow_transformer.transform(X_train)\n",
    "tfidf_transformer=TfidfTransformer().fit(messages_bow)\n",
    "messages_tfidf=tfidf_transformer.transform(messages_bow)\n",
    "\n",
    "messages_bow_test = bow_transformer.transform(X_test)\n",
    "messages_tfidf_test=tfidf_transformer.transform(messages_bow_test)\n",
    "\n",
    "\n",
    "spam_detect_model = MultinomialNB().fit(messages_tfidf,y_train)\n",
    "\n",
    "y_pred = spam_detect_model.predict(messages_tfidf_test)\n",
    "print(classification_report(y_test,y_pred))\n",
    "print(confusion_matrix(y_test,y_pred))\n",
    "print('Accuracy', accuracy_score(y_test.values, y_pred, normalize=True))"
   ]
  },
  {
   "cell_type": "code",
   "execution_count": 9,
   "metadata": {},
   "outputs": [
    {
     "name": "stdout",
     "output_type": "stream",
     "text": [
      "              precision    recall  f1-score   support\n",
      "\n",
      "           0       0.99      0.98      0.99      3276\n",
      "           1       0.99      1.00      0.99      3468\n",
      "\n",
      "   micro avg       0.99      0.99      0.99      6744\n",
      "   macro avg       0.99      0.99      0.99      6744\n",
      "weighted avg       0.99      0.99      0.99      6744\n",
      "\n",
      "[[3225   51]\n",
      " [  17 3451]]\n",
      "('Accuracy', 0.9899169632265717)\n"
     ]
    }
   ],
   "source": [
    "\n",
    "spam_detect_model2 = SVC( gamma = 1,kernel = 'sigmoid').fit(messages_tfidf,y_train)\n",
    "\n",
    "\n",
    "y_pred = spam_detect_model2.predict(messages_tfidf_test)\n",
    "print(classification_report(y_test,y_pred))\n",
    "print(confusion_matrix(y_test,y_pred))\n",
    "print('Accuracy', accuracy_score(y_test.values, y_pred, normalize=True))"
   ]
  },
  {
   "cell_type": "code",
   "execution_count": 16,
   "metadata": {},
   "outputs": [
    {
     "name": "stderr",
     "output_type": "stream",
     "text": [
      "/home/kerch007/.local/lib/python2.7/site-packages/sklearn/linear_model/logistic.py:433: FutureWarning: Default solver will be changed to 'lbfgs' in 0.22. Specify a solver to silence this warning.\n",
      "  FutureWarning)\n"
     ]
    },
    {
     "name": "stdout",
     "output_type": "stream",
     "text": [
      "              precision    recall  f1-score   support\n",
      "\n",
      "           0       1.00      0.97      0.99      3276\n",
      "           1       0.98      1.00      0.99      3468\n",
      "\n",
      "   micro avg       0.99      0.99      0.99      6744\n",
      "   macro avg       0.99      0.99      0.99      6744\n",
      "weighted avg       0.99      0.99      0.99      6744\n",
      "\n",
      "[[3194   82]\n",
      " [  14 3454]]\n",
      "('Accuracy', 0.9857651245551602)\n"
     ]
    }
   ],
   "source": [
    "\n",
    "spam_detect_model3 = LogisticRegression().fit(messages_tfidf,y_train)\n",
    "\n",
    "y_pred = spam_detect_model3.predict(messages_tfidf_test)\n",
    "print(classification_report(y_test,y_pred))\n",
    "print(confusion_matrix(y_test,y_pred))\n",
    "print('Accuracy', accuracy_score(y_test.values, y_pred, normalize=True))\n",
    "\n",
    " "
   ]
  },
  {
   "cell_type": "code",
   "execution_count": 13,
   "metadata": {},
   "outputs": [
    {
     "name": "stdout",
     "output_type": "stream",
     "text": [
      "              precision    recall  f1-score   support\n",
      "\n",
      "           0       1.00      0.71      0.83      3276\n",
      "           1       0.78      1.00      0.88      3468\n",
      "\n",
      "   micro avg       0.86      0.86      0.86      6744\n",
      "   macro avg       0.89      0.85      0.85      6744\n",
      "weighted avg       0.89      0.86      0.85      6744\n",
      "\n",
      "[[2329  947]\n",
      " [  11 3457]]\n",
      "('Accuracy', 0.8579478054567022)\n"
     ]
    }
   ],
   "source": [
    "spam_detect_model4 = RandomForestClassifier(n_estimators=200, max_depth=3, random_state=0).fit(messages_tfidf,y_train)\n",
    "\n",
    "y_pred = spam_detect_model4.predict(messages_tfidf_test)\n",
    "print(classification_report(y_test,y_pred))\n",
    "print(confusion_matrix(y_test,y_pred))\n",
    "print('Accuracy', accuracy_score(y_test.values, y_pred, normalize=True))\n"
   ]
  },
  {
   "cell_type": "code",
   "execution_count": 14,
   "metadata": {},
   "outputs": [
    {
     "name": "stdout",
     "output_type": "stream",
     "text": [
      "              precision    recall  f1-score   support\n",
      "\n",
      "           0       0.97      0.95      0.96      3276\n",
      "           1       0.95      0.97      0.96      3468\n",
      "\n",
      "   micro avg       0.96      0.96      0.96      6744\n",
      "   macro avg       0.96      0.96      0.96      6744\n",
      "weighted avg       0.96      0.96      0.96      6744\n",
      "\n",
      "[[3106  170]\n",
      " [ 105 3363]]\n",
      "('Accuracy', 0.9592230130486358)\n"
     ]
    }
   ],
   "source": [
    "spam_detect_model5 = DecisionTreeClassifier(criterion = 'entropy').fit(messages_tfidf,y_train)\n",
    "\n",
    "y_pred = spam_detect_model5.predict(messages_tfidf_test)\n",
    "print(classification_report(y_test,y_pred))\n",
    "print(confusion_matrix(y_test,y_pred))\n",
    "print('Accuracy', accuracy_score(y_test.values, y_pred, normalize=True))"
   ]
  },
  {
   "cell_type": "code",
   "execution_count": null,
   "metadata": {},
   "outputs": [],
   "source": [
    "def find_classifier_grid(X, y):\n",
    "    X_train, X_test, y_train, y_test = train_test_split(X, y, test_size=0.2)\n",
    "    gamma=[1,0.1,0.001,0.0001]\n",
    "    kernel=['linear','rbf','poly','sigmoid']\n",
    "    acc_l = []\n",
    "    for i in range(len(gamma)):\n",
    "        for k in range(len(kernel)):\n",
    "            clf = SVC(kernel=kernel[k],gamma = gamma[i]).fit(X_train, y_train)\n",
    "            y_pred = clf.predict(X_test)\n",
    "            acc_l.append([accuracy_score(y_test, y_pred),gamma[i],kernel[k]])\n",
    "    return(\"Accuracy, gamma, kernel:\",max(acc_l))\n",
    "\n",
    "find_classifier_grid(messages_tfidf, y_train.values)"
   ]
  },
  {
   "cell_type": "markdown",
   "metadata": {},
   "source": [
    "  ## Explanation of the algorithm selection\n",
    "   For binary text classification I used 5 algorithms - Naive Bayes, SVM, Logistic Regresion, Random Fores and Decision Tree classifier. As can be seen from the tables above the best result was shown by the following algorithms:  Naive Bayes, SVM, Logistic Regresion. Prediction accuracy is almost equal. \n",
    "   If we need an algorithm with better accuracy despite the time of prediction - chose SVM\n",
    "If time of prediction is also important - chose Logistic Regression"
   ]
  }
 ],
 "metadata": {
  "kernelspec": {
   "display_name": "Python 2",
   "language": "python",
   "name": "python2"
  },
  "language_info": {
   "codemirror_mode": {
    "name": "ipython",
    "version": 2
   },
   "file_extension": ".py",
   "mimetype": "text/x-python",
   "name": "python",
   "nbconvert_exporter": "python",
   "pygments_lexer": "ipython2",
   "version": "2.7.15rc1"
  }
 },
 "nbformat": 4,
 "nbformat_minor": 2
}
